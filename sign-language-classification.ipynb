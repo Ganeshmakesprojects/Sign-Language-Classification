{
 "cells": [
  {
   "cell_type": "code",
   "execution_count": 1,
   "id": "d792f452",
   "metadata": {
    "_cell_guid": "b1076dfc-b9ad-4769-8c92-a6c4dae69d19",
    "_uuid": "8f2839f25d086af736a60e9eeb907d3b93b6e0e5",
    "execution": {
     "iopub.execute_input": "2022-01-23T11:23:37.765170Z",
     "iopub.status.busy": "2022-01-23T11:23:37.763348Z",
     "iopub.status.idle": "2022-01-23T11:23:43.397618Z",
     "shell.execute_reply": "2022-01-23T11:23:43.396830Z",
     "shell.execute_reply.started": "2022-01-23T10:06:23.86009Z"
    },
    "papermill": {
     "duration": 5.646654,
     "end_time": "2022-01-23T11:23:43.397788",
     "exception": false,
     "start_time": "2022-01-23T11:23:37.751134",
     "status": "completed"
    },
    "tags": []
   },
   "outputs": [],
   "source": [
    "# This Python 3 environment comes with many helpful analytics libraries installed\n",
    "# It is defined by the kaggle/python Docker image: https://github.com/kaggle/docker-python\n",
    "# For example, here's several helpful packages to load\n",
    "\n",
    "import numpy as np # linear algebra\n",
    "import pandas as pd # data processing, CSV file I/O (e.g. pd.read_csv)\n",
    "import matplotlib.pyplot as plt\n",
    "import tensorflow as tf\n",
    "from tensorflow.keras.preprocessing.image import ImageDataGenerator\n",
    "# Input data files are available in the read-only \"../input/\" directory\n",
    "# For example, running this (by clicking run or pressing Shift+Enter) will list all files under the input directory\n",
    "\n",
    "import os\n",
    "# for dirname, _, filenames in os.walk('/kaggle/input/sign-language-mnist'):\n",
    "#     for filename in filenames:\n",
    "#         print(os.path.join(dirname, filename))\n",
    "\n",
    "# You can write up to 20GB to the current directory (/kaggle/working/) that gets preserved as output when you create a version using \"Save & Run All\" \n",
    "# You can also write temporary files to /kaggle/temp/, but they won't be saved outside of the current session"
   ]
  },
  {
   "cell_type": "code",
   "execution_count": 2,
   "id": "911c11a9",
   "metadata": {
    "execution": {
     "iopub.execute_input": "2022-01-23T11:23:43.419441Z",
     "iopub.status.busy": "2022-01-23T11:23:43.418883Z",
     "iopub.status.idle": "2022-01-23T11:23:56.820292Z",
     "shell.execute_reply": "2022-01-23T11:23:56.819841Z",
     "shell.execute_reply.started": "2022-01-23T10:06:29.853839Z"
    },
    "papermill": {
     "duration": 13.415009,
     "end_time": "2022-01-23T11:23:56.820425",
     "exception": false,
     "start_time": "2022-01-23T11:23:43.405416",
     "status": "completed"
    },
    "tags": []
   },
   "outputs": [
    {
     "name": "stdout",
     "output_type": "stream",
     "text": [
      "24 24\n"
     ]
    }
   ],
   "source": [
    "# Load the data from folders and prepare training and test data\n",
    "def get_data(folder_path) :\n",
    "    with open(folder_path) as folder_csv :\n",
    "        data = folder_csv.read().split('\\n')[1:-1] # first row has the feature names and last row picks empty line\n",
    "        images, labels = [], []\n",
    "        for img in data :\n",
    "            temp = img.split(',')\n",
    "            if int(temp[0]) > 9 :\n",
    "                labels.append(int(temp[0])-1)\n",
    "            else : \n",
    "                labels.append(int(temp[0]))\n",
    "            images.append(np.reshape(temp[1:], (28,28)).astype(float))\n",
    "        return np.array(images), np.array(labels)\n",
    "\n",
    "train_path = '/kaggle/input/sign-language-mnist/sign_mnist_train/sign_mnist_train.csv'\n",
    "test_path = '/kaggle/input/sign-language-mnist/sign_mnist_test/sign_mnist_test.csv'\n",
    "train_imgs, train_labels = get_data(train_path)\n",
    "test_imgs, test_labels = get_data(test_path)\n",
    "\n",
    "num_labels = len(set(test_labels))\n",
    "print(len(set(test_labels)), len(set(train_labels)))"
   ]
  },
  {
   "cell_type": "code",
   "execution_count": 3,
   "id": "493acdef",
   "metadata": {
    "execution": {
     "iopub.execute_input": "2022-01-23T11:23:56.837311Z",
     "iopub.status.busy": "2022-01-23T11:23:56.836718Z",
     "iopub.status.idle": "2022-01-23T11:23:56.846050Z",
     "shell.execute_reply": "2022-01-23T11:23:56.845539Z",
     "shell.execute_reply.started": "2022-01-23T10:07:08.905194Z"
    },
    "papermill": {
     "duration": 0.018616,
     "end_time": "2022-01-23T11:23:56.846174",
     "exception": false,
     "start_time": "2022-01-23T11:23:56.827558",
     "status": "completed"
    },
    "tags": []
   },
   "outputs": [
    {
     "name": "stdout",
     "output_type": "stream",
     "text": [
      "{0, 1, 2, 3, 4, 5, 6, 7, 8, 9, 10, 11, 12, 13, 14, 15, 16, 17, 18, 19, 20, 21, 22, 23} {0, 1, 2, 3, 4, 5, 6, 7, 8, 9, 10, 11, 12, 13, 14, 15, 16, 17, 18, 19, 20, 21, 22, 23}\n"
     ]
    }
   ],
   "source": [
    "print(set(test_labels), set(train_labels))"
   ]
  },
  {
   "cell_type": "code",
   "execution_count": 4,
   "id": "a95d5a5a",
   "metadata": {
    "execution": {
     "iopub.execute_input": "2022-01-23T11:23:56.866134Z",
     "iopub.status.busy": "2022-01-23T11:23:56.863194Z",
     "iopub.status.idle": "2022-01-23T11:23:56.868589Z",
     "shell.execute_reply": "2022-01-23T11:23:56.868160Z",
     "shell.execute_reply.started": "2022-01-23T10:07:18.998161Z"
    },
    "papermill": {
     "duration": 0.015455,
     "end_time": "2022-01-23T11:23:56.868744",
     "exception": false,
     "start_time": "2022-01-23T11:23:56.853289",
     "status": "completed"
    },
    "tags": []
   },
   "outputs": [],
   "source": [
    "# Data Generators with Image Augmentation on Train Data\n",
    "train_datagen = ImageDataGenerator(\n",
    "    rescale=1/255.0,\n",
    "    horizontal_flip=True,\n",
    "    rotation_range=40,\n",
    "    width_shift_range=0.2,\n",
    "    height_shift_range=0.2,\n",
    "    shear_range=0.2,\n",
    "    zoom_range=0.2,\n",
    "    fill_mode='nearest'\n",
    ")\n",
    "\n",
    "validation_datagen = ImageDataGenerator(rescale=1/255.0)\n",
    "\n",
    "# Add Extra dimensions to the get the black and white images\n",
    "train_imgs = np.expand_dims(train_imgs, axis=3)\n",
    "test_imgs = np.expand_dims(test_imgs, axis=3)"
   ]
  },
  {
   "cell_type": "code",
   "execution_count": 5,
   "id": "bdc44e9a",
   "metadata": {
    "execution": {
     "iopub.execute_input": "2022-01-23T11:23:56.885595Z",
     "iopub.status.busy": "2022-01-23T11:23:56.885077Z",
     "iopub.status.idle": "2022-01-23T11:23:56.889061Z",
     "shell.execute_reply": "2022-01-23T11:23:56.889508Z",
     "shell.execute_reply.started": "2022-01-23T10:07:21.631243Z"
    },
    "papermill": {
     "duration": 0.013847,
     "end_time": "2022-01-23T11:23:56.889664",
     "exception": false,
     "start_time": "2022-01-23T11:23:56.875817",
     "status": "completed"
    },
    "tags": []
   },
   "outputs": [
    {
     "name": "stdout",
     "output_type": "stream",
     "text": [
      "(27455, 28, 28, 1) (7172, 28, 28, 1)\n"
     ]
    }
   ],
   "source": [
    "print(train_imgs.shape, test_imgs.shape)"
   ]
  },
  {
   "cell_type": "code",
   "execution_count": 6,
   "id": "a38b536e",
   "metadata": {
    "execution": {
     "iopub.execute_input": "2022-01-23T11:23:56.907174Z",
     "iopub.status.busy": "2022-01-23T11:23:56.906565Z",
     "iopub.status.idle": "2022-01-23T11:23:57.061293Z",
     "shell.execute_reply": "2022-01-23T11:23:57.061829Z",
     "shell.execute_reply.started": "2022-01-23T10:07:49.702295Z"
    },
    "papermill": {
     "duration": 0.165147,
     "end_time": "2022-01-23T11:23:57.062132",
     "exception": false,
     "start_time": "2022-01-23T11:23:56.896985",
     "status": "completed"
    },
    "tags": []
   },
   "outputs": [
    {
     "name": "stdout",
     "output_type": "stream",
     "text": [
      "Model: \"sequential\"\n",
      "_________________________________________________________________\n",
      "Layer (type)                 Output Shape              Param #   \n",
      "=================================================================\n",
      "conv2d (Conv2D)              (None, 26, 26, 32)        320       \n",
      "_________________________________________________________________\n",
      "max_pooling2d (MaxPooling2D) (None, 13, 13, 32)        0         \n",
      "_________________________________________________________________\n",
      "conv2d_1 (Conv2D)            (None, 11, 11, 64)        18496     \n",
      "_________________________________________________________________\n",
      "max_pooling2d_1 (MaxPooling2 (None, 5, 5, 64)          0         \n",
      "_________________________________________________________________\n",
      "flatten (Flatten)            (None, 1600)              0         \n",
      "_________________________________________________________________\n",
      "dense (Dense)                (None, 512)               819712    \n",
      "_________________________________________________________________\n",
      "dense_1 (Dense)              (None, 24)                12312     \n",
      "=================================================================\n",
      "Total params: 850,840\n",
      "Trainable params: 850,840\n",
      "Non-trainable params: 0\n",
      "_________________________________________________________________\n"
     ]
    },
    {
     "name": "stderr",
     "output_type": "stream",
     "text": [
      "\n",
      "User settings:\n",
      "\n",
      "   KMP_AFFINITY=granularity=fine,verbose,compact,1,0\n",
      "   KMP_BLOCKTIME=0\n",
      "   KMP_SETTINGS=1\n",
      "   KMP_WARNINGS=0\n",
      "\n",
      "Effective settings:\n",
      "\n",
      "   KMP_ABORT_DELAY=0\n",
      "   KMP_ADAPTIVE_LOCK_PROPS='1,1024'\n",
      "   KMP_ALIGN_ALLOC=64\n",
      "   KMP_ALL_THREADPRIVATE=128\n",
      "   KMP_ATOMIC_MODE=2\n",
      "   KMP_BLOCKTIME=0\n",
      "   KMP_CPUINFO_FILE: value is not defined\n",
      "   KMP_DETERMINISTIC_REDUCTION=false\n",
      "   KMP_DEVICE_THREAD_LIMIT=2147483647\n",
      "   KMP_DISP_NUM_BUFFERS=7\n",
      "   KMP_DUPLICATE_LIB_OK=false\n",
      "   KMP_ENABLE_TASK_THROTTLING=true\n",
      "   KMP_FORCE_REDUCTION: value is not defined\n",
      "   KMP_FOREIGN_THREADS_THREADPRIVATE=true\n",
      "   KMP_FORKJOIN_BARRIER='2,2'\n",
      "   KMP_FORKJOIN_BARRIER_PATTERN='hyper,hyper'\n",
      "   KMP_GTID_MODE=3\n",
      "   KMP_HANDLE_SIGNALS=false\n",
      "   KMP_HOT_TEAMS_MAX_LEVEL=1\n",
      "   KMP_HOT_TEAMS_MODE=0\n",
      "   KMP_INIT_AT_FORK=true\n",
      "   KMP_LIBRARY=throughput\n",
      "   KMP_LOCK_KIND=queuing\n",
      "   KMP_MALLOC_POOL_INCR=1M\n",
      "   KMP_NUM_LOCKS_IN_BLOCK=1\n",
      "   KMP_PLAIN_BARRIER='2,2'\n",
      "   KMP_PLAIN_BARRIER_PATTERN='hyper,hyper'\n",
      "   KMP_REDUCTION_BARRIER='1,1'\n",
      "   KMP_REDUCTION_BARRIER_PATTERN='hyper,hyper'\n",
      "   KMP_SCHEDULE='static,balanced;guided,iterative'\n",
      "   KMP_SETTINGS=true\n",
      "   KMP_SPIN_BACKOFF_PARAMS='4096,100'\n",
      "   KMP_STACKOFFSET=64\n",
      "   KMP_STACKPAD=0\n",
      "   KMP_STACKSIZE=8M\n",
      "   KMP_STORAGE_MAP=false\n",
      "   KMP_TASKING=2\n",
      "   KMP_TASKLOOP_MIN_TASKS=0\n",
      "   KMP_TASK_STEALING_CONSTRAINT=1\n",
      "   KMP_TEAMS_THREAD_LIMIT=4\n",
      "   KMP_TOPOLOGY_METHOD=all\n",
      "   KMP_USE_YIELD=1\n",
      "   KMP_VERSION=false\n",
      "   KMP_WARNINGS=false\n",
      "   OMP_AFFINITY_FORMAT='OMP: pid %P tid %i thread %n bound to OS proc set {%A}'\n",
      "   OMP_ALLOCATOR=omp_default_mem_alloc\n",
      "   OMP_CANCELLATION=false\n",
      "   OMP_DEFAULT_DEVICE=0\n",
      "   OMP_DISPLAY_AFFINITY=false\n",
      "   OMP_DISPLAY_ENV=false\n",
      "   OMP_DYNAMIC=false\n",
      "   OMP_MAX_ACTIVE_LEVELS=1\n",
      "   OMP_MAX_TASK_PRIORITY=0\n",
      "   OMP_NESTED: deprecated; max-active-levels-var=1\n",
      "   OMP_NUM_THREADS: value is not defined\n",
      "   OMP_PLACES: value is not defined\n",
      "   OMP_PROC_BIND='intel'\n",
      "   OMP_SCHEDULE='static'\n",
      "   OMP_STACKSIZE=8M\n",
      "   OMP_TARGET_OFFLOAD=DEFAULT\n",
      "   OMP_THREAD_LIMIT=2147483647\n",
      "   OMP_WAIT_POLICY=PASSIVE\n",
      "   KMP_AFFINITY='verbose,warnings,respect,granularity=fine,compact,1,0'\n",
      "\n",
      "2022-01-23 11:23:56.950032: I tensorflow/core/common_runtime/process_util.cc:146] Creating new thread pool with default inter op setting: 2. Tune using inter_op_parallelism_threads for best performance.\n"
     ]
    }
   ],
   "source": [
    "# Model Structure and compile\n",
    "model = tf.keras.Sequential([\n",
    "    tf.keras.layers.Conv2D(32, (3,3), activation='relu', input_shape=(28,28,1)),\n",
    "    tf.keras.layers.MaxPooling2D(2,2),\n",
    "    tf.keras.layers.Conv2D(64, (3,3), activation='relu'),\n",
    "    tf.keras.layers.MaxPooling2D(2,2),\n",
    "    \n",
    "    tf.keras.layers.Flatten(),\n",
    "    tf.keras.layers.Dense(512, activation='relu'),\n",
    "    tf.keras.layers.Dense(num_labels, activation='softmax')\n",
    "])\n",
    "\n",
    "model.summary()\n",
    "\n",
    "# Compile the model (Use Sparse Categorical as high number of labels)\n",
    "model.compile(optimizer='adam', loss='sparse_categorical_crossentropy', metrics=['accuracy'])"
   ]
  },
  {
   "cell_type": "code",
   "execution_count": 7,
   "id": "557b9f6e",
   "metadata": {
    "execution": {
     "iopub.execute_input": "2022-01-23T11:23:57.083310Z",
     "iopub.status.busy": "2022-01-23T11:23:57.082745Z",
     "iopub.status.idle": "2022-01-23T11:32:15.456171Z",
     "shell.execute_reply": "2022-01-23T11:32:15.457083Z",
     "shell.execute_reply.started": "2022-01-23T10:09:17.178301Z"
    },
    "papermill": {
     "duration": 498.386951,
     "end_time": "2022-01-23T11:32:15.457265",
     "exception": false,
     "start_time": "2022-01-23T11:23:57.070314",
     "status": "completed"
    },
    "tags": []
   },
   "outputs": [
    {
     "name": "stderr",
     "output_type": "stream",
     "text": [
      "2022-01-23 11:23:57.222430: I tensorflow/compiler/mlir/mlir_graph_optimization_pass.cc:185] None of the MLIR Optimization Passes are enabled (registered 2)\n"
     ]
    },
    {
     "name": "stdout",
     "output_type": "stream",
     "text": [
      "Epoch 1/25\n",
      "858/858 [==============================] - 19s 21ms/step - loss: 2.5371 - accuracy: 0.2194 - val_loss: 1.5215 - val_accuracy: 0.4502\n",
      "Epoch 2/25\n",
      "858/858 [==============================] - 18s 21ms/step - loss: 1.6139 - accuracy: 0.4729 - val_loss: 1.0187 - val_accuracy: 0.6405\n",
      "Epoch 3/25\n",
      "858/858 [==============================] - 19s 22ms/step - loss: 1.1966 - accuracy: 0.6084 - val_loss: 0.7566 - val_accuracy: 0.7179\n",
      "Epoch 4/25\n",
      "858/858 [==============================] - 18s 21ms/step - loss: 0.9686 - accuracy: 0.6799 - val_loss: 0.4785 - val_accuracy: 0.8427\n",
      "Epoch 5/25\n",
      "858/858 [==============================] - 18s 21ms/step - loss: 0.8136 - accuracy: 0.7297 - val_loss: 0.3854 - val_accuracy: 0.8805\n",
      "Epoch 6/25\n",
      "858/858 [==============================] - 18s 22ms/step - loss: 0.6960 - accuracy: 0.7702 - val_loss: 0.2988 - val_accuracy: 0.8925\n",
      "Epoch 7/25\n",
      "858/858 [==============================] - 18s 21ms/step - loss: 0.6166 - accuracy: 0.7952 - val_loss: 0.3146 - val_accuracy: 0.8885\n",
      "Epoch 8/25\n",
      "858/858 [==============================] - 18s 22ms/step - loss: 0.5565 - accuracy: 0.8133 - val_loss: 0.2268 - val_accuracy: 0.9156\n",
      "Epoch 9/25\n",
      "858/858 [==============================] - 19s 22ms/step - loss: 0.5009 - accuracy: 0.8346 - val_loss: 0.2283 - val_accuracy: 0.9222\n",
      "Epoch 10/25\n",
      "858/858 [==============================] - 18s 21ms/step - loss: 0.4633 - accuracy: 0.8434 - val_loss: 0.2126 - val_accuracy: 0.9278\n",
      "Epoch 11/25\n",
      "858/858 [==============================] - 19s 22ms/step - loss: 0.4229 - accuracy: 0.8576 - val_loss: 0.1704 - val_accuracy: 0.9403\n",
      "Epoch 12/25\n",
      "858/858 [==============================] - 18s 21ms/step - loss: 0.4057 - accuracy: 0.8630 - val_loss: 0.2057 - val_accuracy: 0.9218\n",
      "Epoch 13/25\n",
      "858/858 [==============================] - 18s 21ms/step - loss: 0.3801 - accuracy: 0.8734 - val_loss: 0.1364 - val_accuracy: 0.9526\n",
      "Epoch 14/25\n",
      "858/858 [==============================] - 19s 22ms/step - loss: 0.3510 - accuracy: 0.8833 - val_loss: 0.1194 - val_accuracy: 0.9526\n",
      "Epoch 15/25\n",
      "858/858 [==============================] - 18s 21ms/step - loss: 0.3338 - accuracy: 0.8874 - val_loss: 0.1391 - val_accuracy: 0.9487\n",
      "Epoch 16/25\n",
      "858/858 [==============================] - 18s 21ms/step - loss: 0.3165 - accuracy: 0.8938 - val_loss: 0.1126 - val_accuracy: 0.9612\n",
      "Epoch 17/25\n",
      "858/858 [==============================] - 18s 21ms/step - loss: 0.3208 - accuracy: 0.8922 - val_loss: 0.2051 - val_accuracy: 0.9317\n",
      "Epoch 18/25\n",
      "858/858 [==============================] - 18s 21ms/step - loss: 0.2853 - accuracy: 0.9044 - val_loss: 0.1046 - val_accuracy: 0.9608\n",
      "Epoch 19/25\n",
      "858/858 [==============================] - 19s 22ms/step - loss: 0.2736 - accuracy: 0.9100 - val_loss: 0.0992 - val_accuracy: 0.9654\n",
      "Epoch 20/25\n",
      "858/858 [==============================] - 18s 21ms/step - loss: 0.2690 - accuracy: 0.9091 - val_loss: 0.1012 - val_accuracy: 0.9689\n",
      "Epoch 21/25\n",
      "858/858 [==============================] - 19s 22ms/step - loss: 0.2547 - accuracy: 0.9142 - val_loss: 0.1279 - val_accuracy: 0.9508\n",
      "Epoch 22/25\n",
      "858/858 [==============================] - 18s 21ms/step - loss: 0.2506 - accuracy: 0.9180 - val_loss: 0.0971 - val_accuracy: 0.9619\n",
      "Epoch 23/25\n",
      "858/858 [==============================] - 19s 22ms/step - loss: 0.2445 - accuracy: 0.9178 - val_loss: 0.0937 - val_accuracy: 0.9667\n",
      "Epoch 24/25\n",
      "858/858 [==============================] - 19s 22ms/step - loss: 0.2348 - accuracy: 0.9242 - val_loss: 0.0651 - val_accuracy: 0.9777\n",
      "Epoch 25/25\n",
      "858/858 [==============================] - 18s 21ms/step - loss: 0.2275 - accuracy: 0.9238 - val_loss: 0.0653 - val_accuracy: 0.9824\n"
     ]
    }
   ],
   "source": [
    "# Callback implementation for 95% accuracy\n",
    "# class myCallback(tf.keras.callbacks.Callback) :\n",
    "#     def on_epoch_end(self, logs={}, epoch) :\n",
    "#         if logs.get('accuracy') > 0.95 :\n",
    "#             print(\"Yaay, got more than 95% accuracy. Enough for now\")\n",
    "#             self.model.stop_training = True\n",
    "\n",
    "# callbacks = myCallback()\n",
    "\n",
    "# Fit the data into the model using the Data Generators created \n",
    "history = model.fit(\n",
    "    train_datagen.flow(train_imgs, train_labels),\n",
    "    validation_data = validation_datagen.flow(test_imgs, test_labels),\n",
    "    epochs = 25\n",
    ")"
   ]
  },
  {
   "cell_type": "code",
   "execution_count": 8,
   "id": "fa7730d3",
   "metadata": {
    "execution": {
     "iopub.execute_input": "2022-01-23T11:32:18.830109Z",
     "iopub.status.busy": "2022-01-23T11:32:18.829426Z",
     "iopub.status.idle": "2022-01-23T11:32:19.898338Z",
     "shell.execute_reply": "2022-01-23T11:32:19.898805Z",
     "shell.execute_reply.started": "2022-01-23T10:28:29.535063Z"
    },
    "papermill": {
     "duration": 2.77615,
     "end_time": "2022-01-23T11:32:19.898971",
     "exception": false,
     "start_time": "2022-01-23T11:32:17.122821",
     "status": "completed"
    },
    "tags": []
   },
   "outputs": [
    {
     "data": {
      "text/plain": [
       "[71.73463439941406, 0.8678193092346191]"
      ]
     },
     "execution_count": 8,
     "metadata": {},
     "output_type": "execute_result"
    }
   ],
   "source": [
    "# Model evaluates the test data\n",
    "model.evaluate(test_imgs, test_labels, verbose=0)"
   ]
  },
  {
   "cell_type": "code",
   "execution_count": 9,
   "id": "0ad3dbd4",
   "metadata": {
    "execution": {
     "iopub.execute_input": "2022-01-23T11:32:23.250699Z",
     "iopub.status.busy": "2022-01-23T11:32:23.250059Z",
     "iopub.status.idle": "2022-01-23T11:32:23.647499Z",
     "shell.execute_reply": "2022-01-23T11:32:23.647027Z",
     "shell.execute_reply.started": "2022-01-23T10:28:52.819829Z"
    },
    "papermill": {
     "duration": 2.071152,
     "end_time": "2022-01-23T11:32:23.647659",
     "exception": false,
     "start_time": "2022-01-23T11:32:21.576507",
     "status": "completed"
    },
    "tags": []
   },
   "outputs": [
    {
     "data": {
      "image/png": "[encoded data removed]",
      "text/plain": [
       "<Figure size 432x288 with 1 Axes>"
      ]
     },
     "metadata": {
      "needs_background": "light"
     },
     "output_type": "display_data"
    },
    {
     "data": {
      "image/png": "[encoded data removed]",
      "text/plain": [
       "<Figure size 432x288 with 1 Axes>"
      ]
     },
     "metadata": {
      "needs_background": "light"
     },
     "output_type": "display_data"
    }
   ],
   "source": [
    "# Compare the Training and Validation Accuracy, Loss\n",
    "train_acc = history.history['accuracy']\n",
    "val_acc = history.history['val_accuracy']\n",
    "\n",
    "train_loss = history.history['loss']\n",
    "val_loss = history.history['val_loss']\n",
    "\n",
    "epochs = range(len(train_loss))\n",
    "\n",
    "plt.plot(epochs, train_acc, label='Training Accuracy')\n",
    "plt.plot(epochs, val_acc, label='Validation Accuracy')\n",
    "plt.title(\"Training Vs Validation Accuracy\")\n",
    "plt.legend()\n",
    "plt.figure()\n",
    "\n",
    "plt.plot(epochs, train_loss, label='Training Loss')\n",
    "plt.plot(epochs, val_loss, label='Validation Loss')\n",
    "plt.title(\"Training Vs Validation Loss\")\n",
    "plt.legend()\n",
    "\n",
    "plt.show()\n",
    "\n",
    "# figure, axis = plt.subplots(2,1)\n",
    "\n",
    "# axis[0].plot(epochs, train_acc, label='Training Accuracy')\n",
    "# axis[0].plot(epochs, val_acc, label='Validation Accuracy')\n",
    "# axis[0].title(\"Training Vs Validation Accuracy\")\n",
    "# axis[0].legend()\n",
    "\n",
    "# axis[1].plot(epochs, train_loss, label='Training Loss')\n",
    "# axis[1].plot(epochs, val_loss, label='Validation Loss')\n",
    "# axis[1].title(\"Training Vs Validation Loss\")\n",
    "# axis[1].legend()\n",
    "\n",
    "# plt.show()\n"
   ]
  }
 ],
 "metadata": {
  "kernelspec": {
   "display_name": "Python 3",
   "language": "python",
   "name": "python3"
  },
  "language_info": {
   "codemirror_mode": {
    "name": "ipython",
    "version": 3
   },
   "file_extension": ".py",
   "mimetype": "text/x-python",
   "name": "python",
   "nbconvert_exporter": "python",
   "pygments_lexer": "ipython3",
   "version": "3.7.12"
  },
  "papermill": {
   "default_parameters": {},
   "duration": 539.051712,
   "end_time": "2022-01-23T11:32:28.247267",
   "environment_variables": {},
   "exception": null,
   "input_path": "__notebook__.ipynb",
   "output_path": "__notebook__.ipynb",
   "parameters": {},
   "start_time": "2022-01-23T11:23:29.195555",
   "version": "2.3.3"
  }
 },
 "nbformat": 4,
 "nbformat_minor": 5
}
